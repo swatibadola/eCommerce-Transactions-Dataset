{
 "cells": [
  {
   "cell_type": "code",
   "execution_count": 75,
   "id": "cf2ffe99",
   "metadata": {},
   "outputs": [],
   "source": [
    "import pandas as pd\n",
    "import numpy as np\n",
    "from datetime import datetime\n",
    "from sklearn.neighbors import KNeighborsClassifier\n",
    "from sklearn.preprocessing import StandardScaler\n",
    "from sklearn.metrics.pairwise import cosine_similarity"
   ]
  },
  {
   "cell_type": "markdown",
   "id": "7c8020a2",
   "metadata": {},
   "source": [
    "# Load data"
   ]
  },
  {
   "cell_type": "code",
   "execution_count": 78,
   "id": "9d6a762a",
   "metadata": {},
   "outputs": [],
   "source": [
    "customers_df = pd.read_csv('Customers.csv')\n",
    "products_df = pd.read_csv('Products.csv')\n",
    "transactions_df = pd.read_csv('Transactions.csv')"
   ]
  },
  {
   "cell_type": "markdown",
   "id": "a99fa6b0",
   "metadata": {},
   "source": [
    "# Processing customer data"
   ]
  },
  {
   "cell_type": "code",
   "execution_count": 79,
   "id": "793c2614",
   "metadata": {},
   "outputs": [],
   "source": [
    "def process_customers(customers):\n",
    "    # Calculate customer tenure in days\n",
    "    customers['SignupDate'] = pd.to_datetime(customers['SignupDate'])\n",
    "    today = datetime.today()\n",
    "    customers['TenureDays'] = (today - customers['SignupDate']).dt.days\n",
    "\n",
    "    # One-hot-encoding the region\n",
    "    customers = pd.get_dummies(customers, columns=['Region'], drop_first=True)\n",
    "    return customers\n",
    "\n",
    "customers_df = process_customers(customers_df)"
   ]
  },
  {
   "cell_type": "markdown",
   "id": "f2014a91",
   "metadata": {},
   "source": [
    "# Aggregating Transactions Data"
   ]
  },
  {
   "cell_type": "code",
   "execution_count": 80,
   "id": "da6c0f2c",
   "metadata": {},
   "outputs": [],
   "source": [
    "def aggregate_transactions(transactions, products):\n",
    "    # Merge transactions with product categories\n",
    "    transactions = pd.merge(transactions, products[['ProductID', 'Category']], on='ProductID', how='left')\n",
    "\n",
    "    # Total spend per customer\n",
    "    spend = transactions.groupby('CustomerID')['TotalValue'].sum().rename('TotalSpend')\n",
    "\n",
    "    # Total transaction count per customer\n",
    "    frequency = transactions.groupby('CustomerID')['TransactionID'].count().rename('TransactionCount')\n",
    "\n",
    "    # Spend breakdown by category\n",
    "    category_spend = transactions.groupby(['CustomerID', 'Category'])['TotalValue'].sum().unstack(fill_value=0)\n",
    "\n",
    "    # Combine all transaction-based features\n",
    "    return pd.concat([spend, frequency, category_spend], axis=1).reset_index()\n",
    "\n",
    "transaction_features = aggregate_transactions(transactions_df, products_df)"
   ]
  },
  {
   "cell_type": "markdown",
   "id": "a321fcd9",
   "metadata": {},
   "source": [
    "# Merging Customer and Transaction Data"
   ]
  },
  {
   "cell_type": "code",
   "execution_count": 81,
   "id": "9b066a66",
   "metadata": {},
   "outputs": [],
   "source": [
    "def merge_features(customers, transactions):\n",
    "    # Merge customer and transaction features\n",
    "    features = pd.merge(customers, transactions, on='CustomerID', how='left')\n",
    "    features.fillna(0, inplace=True)  # Handle missing transaction data\n",
    "    return features\n",
    "\n",
    "customer_features = merge_features(customers_df, transaction_features)"
   ]
  },
  {
   "cell_type": "markdown",
   "id": "87a4493f",
   "metadata": {},
   "source": [
    "# Normalize Features for Similarity Calculation"
   ]
  },
  {
   "cell_type": "code",
   "execution_count": 82,
   "id": "9aa1f2e0",
   "metadata": {},
   "outputs": [],
   "source": [
    "def normalize_features(features):\n",
    "    # Drop non-numerical or identifier columns for normalization\n",
    "    numeric_data = features.drop(columns=['CustomerID', 'CustomerName', 'SignupDate'])\n",
    "    scaler = StandardScaler()\n",
    "    normalized = scaler.fit_transform(numeric_data)\n",
    "    return pd.DataFrame(normalized, index=features['CustomerID'], columns=numeric_data.columns)\n",
    "\n",
    "normalized_features = normalize_features(customer_features)"
   ]
  },
  {
   "cell_type": "markdown",
   "id": "a4d1d843",
   "metadata": {},
   "source": [
    "# Computing Similarity"
   ]
  },
  {
   "cell_type": "code",
   "execution_count": 83,
   "id": "6b627fc4",
   "metadata": {},
   "outputs": [],
   "source": [
    "def compute_similarity(normalized_features):\n",
    "    # Cosine similarity between customers\n",
    "    similarity_matrix = cosine_similarity(normalized_features)\n",
    "    return pd.DataFrame(similarity_matrix, index=normalized_features.index, columns=normalized_features.index)\n",
    "\n",
    "similarity_df = compute_similarity(normalized_features)"
   ]
  },
  {
   "cell_type": "markdown",
   "id": "a8cd4807",
   "metadata": {},
   "source": [
    "# Extracting Top 3 Lookalikes and Saving Lookalikes to csv file"
   ]
  },
  {
   "cell_type": "code",
   "execution_count": 90,
   "id": "c7b82903",
   "metadata": {},
   "outputs": [
    {
     "name": "stdout",
     "output_type": "stream",
     "text": [
      "Lookalike recommendations saved to Lookalike.csv.\n"
     ]
    }
   ],
   "source": [
    "def get_top_lookalikes(similarity_df, top_n=3):\n",
    "    lookalike_map = {}\n",
    "    for customer_id in similarity_df.index:\n",
    "        # Get top-N most similar customers (exclude the customer itself)\n",
    "        similar_customers = similarity_df.loc[customer_id].sort_values(ascending=False).iloc[1:top_n+1]\n",
    "        lookalike_map[customer_id] = list(similar_customers.items())\n",
    "    return lookalike_map\n",
    "\n",
    "lookalike_map = get_top_lookalikes(similarity_df)\n",
    "save_lookalikes(lookalike_map)"
   ]
  },
  {
   "cell_type": "code",
   "execution_count": 85,
   "id": "a22af625",
   "metadata": {},
   "outputs": [],
   "source": [
    "def save_lookalikes(lookalike_map, output_file='Lookalike.csv'):\n",
    "    # Convert map to a DataFrame and save\n",
    "    lookalike_df = pd.DataFrame([\n",
    "        {'cust_id': k, 'lookalikes': v} for k, v in lookalike_map.items()\n",
    "    ])\n",
    "    lookalike_df.to_csv(output_file, index=False)\n",
    "    print(f\"Lookalike recommendations saved to {output_file}.\")"
   ]
  },
  {
   "cell_type": "markdown",
   "id": "80002534",
   "metadata": {},
   "source": [
    "# Generating Insights"
   ]
  },
  {
   "cell_type": "code",
   "execution_count": 87,
   "id": "0823ccfd",
   "metadata": {},
   "outputs": [],
   "source": [
    "def generate_insights(features):\n",
    "    # Find top spenders\n",
    "    top_spenders = features[['CustomerID', 'TotalSpend']].sort_values(by='TotalSpend', ascending=False).head(5)\n",
    "    print(\"\\nTop 5 Customers by Spend:\")\n",
    "    print(top_spenders)\n",
    "\n",
    "    # Find most popular categories\n",
    "    category_columns = [col for col in features.columns if col not in ['CustomerID', 'CustomerName', 'SignupDate', 'TenureDays', 'TotalSpend', 'TransactionCount']]\n",
    "    popular_categories = features[category_columns].mean().sort_values(ascending=False)\n",
    "    print(\"\\nMost Popular Categories by Average Spend:\")\n",
    "    print(popular_categories)"
   ]
  },
  {
   "cell_type": "code",
   "execution_count": 88,
   "id": "cb9932a7",
   "metadata": {},
   "outputs": [
    {
     "name": "stdout",
     "output_type": "stream",
     "text": [
      "\n",
      "Top 5 Customers by Spend:\n",
      "    CustomerID  TotalSpend\n",
      "140      C0141    10673.87\n",
      "53       C0054     8040.39\n",
      "64       C0065     7663.70\n",
      "155      C0156     7634.45\n",
      "81       C0082     7572.91\n",
      "\n",
      "Most Popular Categories by Average Spend:\n",
      "Books                   960.73735\n",
      "Electronics             903.91750\n",
      "Clothing                830.85330\n",
      "Home Decor              754.46965\n",
      "Region_South America      0.29500\n",
      "Region_Europe             0.25000\n",
      "Region_North America      0.23000\n",
      "dtype: float64\n"
     ]
    }
   ],
   "source": [
    "generate_insights(customer_features)"
   ]
  }
 ],
 "metadata": {
  "kernelspec": {
   "display_name": "Python 3 (ipykernel)",
   "language": "python",
   "name": "python3"
  },
  "language_info": {
   "codemirror_mode": {
    "name": "ipython",
    "version": 3
   },
   "file_extension": ".py",
   "mimetype": "text/x-python",
   "name": "python",
   "nbconvert_exporter": "python",
   "pygments_lexer": "ipython3",
   "version": "3.11.3"
  }
 },
 "nbformat": 4,
 "nbformat_minor": 5
}
